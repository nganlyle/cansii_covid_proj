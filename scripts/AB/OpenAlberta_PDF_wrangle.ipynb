{
 "cells": [
  {
   "cell_type": "markdown",
   "metadata": {},
   "source": [
    "### For a comprehensive list of LTCs in Alberta, according to Open Alberta\n",
    "---"
   ]
  },
  {
   "cell_type": "code",
   "execution_count": 32,
   "metadata": {},
   "outputs": [],
   "source": [
    "import numpy as np\n",
    "import pandas as pd\n",
    "import requests\n",
    "import tabula"
   ]
  },
  {
   "cell_type": "code",
   "execution_count": 53,
   "metadata": {},
   "outputs": [
    {
     "name": "stderr",
     "output_type": "stream",
     "text": [
      "Got stderr: Sep. 08, 2020 6:41:05 P.M. org.apache.pdfbox.pdmodel.font.PDCIDFontType2 <init>\n",
      "INFO: OpenType Layout tables used in font Arial are not implemented in PDFBox and will be ignored\n",
      "\n"
     ]
    }
   ],
   "source": [
    "# Read remote pdf into list of DataFrame\n",
    "file = 'https://open.alberta.ca/dataset/7f4fc1ef-779c-4ebb-a557-d7afc405c826/resource/0a431494-4c96-40c6-bc55-0141b3c72e9e/download/cc-list-funded-sla-ltc.pdf'\n",
    "\n",
    "# Select page range\n",
    "pgs = [str(i) for i in range(3,47)]\n",
    "df = tabula.read_pdf(file, lattice=True, pages=pgs, pandas_options={'header': True})\n",
    "\n"
   ]
  },
  {
   "cell_type": "code",
   "execution_count": 54,
   "metadata": {},
   "outputs": [],
   "source": [
    "# A list of pd DFs\n",
    "dftotal = pd.concat(df, ignore_index=True)\n",
    "\n",
    "# Clean some text\n",
    "dftotal = dftotal.apply(lambda x: x.str.replace('\\\\r',' '))\n",
    "\n",
    "# Rename funky cols\n",
    "dftotal.rename(columns = {'Supportive\\rLiving 3': 'DSL-3', \n",
    "                         'Supportive\\rLiving 4' : 'DSL-4',\n",
    "                         'Supportive\\rLiving 4 -\\rDementia':'DSL-4-Dementia',\n",
    "                         'Auxiliary\\rHospital' : 'LTC-Auxilary Hospital',\n",
    "                         'Nursing Home' : 'LTC-Nursing Home',\n",
    "                         'Operator\\rName': 'Operator Name'}, inplace = True)\n",
    "\n",
    "# Remove rows that describe supportive living cols\n",
    "# len(dftotal) = 375, 42 rows removed\n",
    "dftotal = dftotal[dftotal['DSL-3'] != \"Designated Supportive Living (Check Mark)\"]\n"
   ]
  },
  {
   "cell_type": "code",
   "execution_count": 55,
   "metadata": {},
   "outputs": [],
   "source": [
    "# Shift row information 1 column right where Zone is not null \n",
    "# (no zones were accurately imported, any that are not null are actually the city)\n",
    "dftotal[dftotal.Zone.notnull()] = dftotal[dftotal.Zone.notnull()].shift(periods=1, axis=\"columns\")"
   ]
  },
  {
   "cell_type": "code",
   "execution_count": 56,
   "metadata": {},
   "outputs": [],
   "source": [
    "# Shift DSL/LTC column info for rows where Facility Name IS null\n",
    "# (due to structure of the PDF)\n",
    "# Shift by 3 because we will shift the whole row by 1 to correct facility name next\n",
    "\n",
    "rows = dftotal[dftotal['Facility Name'].isnull()].index.to_list()\n",
    "col_mns = ['DSL-3','DSL-4', 'DSL-4-Dementia',\n",
    "          'LTC-Auxilary Hospital', 'LTC-Nursing Home']\n",
    "\n",
    "dftotal.loc[rows, col_mns] = dftotal.loc[rows, col_mns].shift(periods=3, axis=\"columns\")"
   ]
  },
  {
   "cell_type": "code",
   "execution_count": 57,
   "metadata": {},
   "outputs": [],
   "source": [
    "# Shift row information 1 column right where Facility Name IS null\n",
    "# (due to structure of the PDF)\n",
    "dftotal[dftotal['Facility Name'].isnull()] = dftotal[dftotal['Facility Name'].isnull()].shift(periods=1, axis=\"columns\")"
   ]
  },
  {
   "cell_type": "code",
   "execution_count": 58,
   "metadata": {},
   "outputs": [],
   "source": [
    "# Forward fill shifted rows\n",
    "cols = ['Location','Facility Address', 'Operator Name', 'Operator Type']\n",
    "dftotal.loc[:,cols] = dftotal.loc[:,cols].ffill()"
   ]
  },
  {
   "cell_type": "code",
   "execution_count": 59,
   "metadata": {},
   "outputs": [
    {
     "name": "stdout",
     "output_type": "stream",
     "text": [
      "<class 'pandas.core.frame.DataFrame'>\n",
      "Int64Index: 347 entries, 1 to 390\n",
      "Data columns (total 11 columns):\n",
      " #   Column                 Non-Null Count  Dtype \n",
      "---  ------                 --------------  ----- \n",
      " 0   Zone                   0 non-null      object\n",
      " 1   Location               347 non-null    object\n",
      " 2   Facility Name          347 non-null    object\n",
      " 3   Facility Address       347 non-null    object\n",
      " 4   Operator Name          347 non-null    object\n",
      " 5   Operator Type          347 non-null    object\n",
      " 6   DSL-3                  57 non-null     object\n",
      " 7   DSL-4                  128 non-null    object\n",
      " 8   DSL-4-Dementia         89 non-null     object\n",
      " 9   LTC-Auxilary Hospital  107 non-null    object\n",
      " 10  LTC-Nursing Home       97 non-null     object\n",
      "dtypes: object(11)\n",
      "memory usage: 42.5+ KB\n"
     ]
    },
    {
     "data": {
      "text/html": [
       "<div>\n",
       "<style scoped>\n",
       "    .dataframe tbody tr th:only-of-type {\n",
       "        vertical-align: middle;\n",
       "    }\n",
       "\n",
       "    .dataframe tbody tr th {\n",
       "        vertical-align: top;\n",
       "    }\n",
       "\n",
       "    .dataframe thead th {\n",
       "        text-align: right;\n",
       "    }\n",
       "</style>\n",
       "<table border=\"1\" class=\"dataframe\">\n",
       "  <thead>\n",
       "    <tr style=\"text-align: right;\">\n",
       "      <th></th>\n",
       "      <th>Zone</th>\n",
       "      <th>Location</th>\n",
       "      <th>Facility Name</th>\n",
       "      <th>Facility Address</th>\n",
       "      <th>Operator Name</th>\n",
       "      <th>Operator Type</th>\n",
       "      <th>DSL-3</th>\n",
       "      <th>DSL-4</th>\n",
       "      <th>DSL-4-Dementia</th>\n",
       "      <th>LTC-Auxilary Hospital</th>\n",
       "      <th>LTC-Nursing Home</th>\n",
       "    </tr>\n",
       "  </thead>\n",
       "  <tbody>\n",
       "    <tr>\n",
       "      <th>377</th>\n",
       "      <td>NaN</td>\n",
       "      <td>Slave Lake</td>\n",
       "      <td>Slave Lake Healthcare Centre</td>\n",
       "      <td>309 6 Street NE SLAVE LAKE, Alberta T0G 2A2</td>\n",
       "      <td>Alberta Health Services</td>\n",
       "      <td>Alberta Health Services</td>\n",
       "      <td>NaN</td>\n",
       "      <td>NaN</td>\n",
       "      <td>NaN</td>\n",
       "      <td></td>\n",
       "      <td>NaN</td>\n",
       "    </tr>\n",
       "    <tr>\n",
       "      <th>378</th>\n",
       "      <td>NaN</td>\n",
       "      <td>Slave Lake</td>\n",
       "      <td>Vanderwell Heritage Place</td>\n",
       "      <td>301 6 Avenue NE SLAVE LAKE, Alberta T0G 2A0</td>\n",
       "      <td>Lesser Slave Lake Regional Housing Authority</td>\n",
       "      <td>Private</td>\n",
       "      <td></td>\n",
       "      <td>NaN</td>\n",
       "      <td>NaN</td>\n",
       "      <td>NaN</td>\n",
       "      <td>NaN</td>\n",
       "    </tr>\n",
       "  </tbody>\n",
       "</table>\n",
       "</div>"
      ],
      "text/plain": [
       "    Zone    Location                 Facility Name  \\\n",
       "377  NaN  Slave Lake  Slave Lake Healthcare Centre   \n",
       "378  NaN  Slave Lake     Vanderwell Heritage Place   \n",
       "\n",
       "                                Facility Address  \\\n",
       "377  309 6 Street NE SLAVE LAKE, Alberta T0G 2A2   \n",
       "378  301 6 Avenue NE SLAVE LAKE, Alberta T0G 2A0   \n",
       "\n",
       "                                    Operator Name            Operator Type  \\\n",
       "377                       Alberta Health Services  Alberta Health Services   \n",
       "378  Lesser Slave Lake Regional Housing Authority                  Private   \n",
       "\n",
       "    DSL-3 DSL-4 DSL-4-Dementia LTC-Auxilary Hospital LTC-Nursing Home  \n",
       "377   NaN   NaN            NaN                                   NaN  \n",
       "378        NaN            NaN                   NaN              NaN  "
      ]
     },
     "execution_count": 59,
     "metadata": {},
     "output_type": "execute_result"
    }
   ],
   "source": [
    "dftotal.info()\n",
    "dftotal[dftotal['Location']== 'Slave Lake']"
   ]
  },
  {
   "cell_type": "markdown",
   "metadata": {},
   "source": [
    "**Designated LTCs Only**"
   ]
  },
  {
   "cell_type": "code",
   "execution_count": 48,
   "metadata": {},
   "outputs": [],
   "source": [
    "# df_ltc = dftotal[dftotal[['LTC-Auxilary Hospital','LTC-Nursing Home']].notnull().any(1)]"
   ]
  },
  {
   "cell_type": "code",
   "execution_count": 49,
   "metadata": {},
   "outputs": [
    {
     "name": "stderr",
     "output_type": "stream",
     "text": [
      "//anaconda3/lib/python3.7/site-packages/pandas/core/frame.py:3997: SettingWithCopyWarning: \n",
      "A value is trying to be set on a copy of a slice from a DataFrame\n",
      "\n",
      "See the caveats in the documentation: https://pandas.pydata.org/pandas-docs/stable/user_guide/indexing.html#returning-a-view-versus-a-copy\n",
      "  errors=errors,\n",
      "//anaconda3/lib/python3.7/site-packages/pandas/core/frame.py:4172: SettingWithCopyWarning: \n",
      "A value is trying to be set on a copy of a slice from a DataFrame\n",
      "\n",
      "See the caveats in the documentation: https://pandas.pydata.org/pandas-docs/stable/user_guide/indexing.html#returning-a-view-versus-a-copy\n",
      "  method=method,\n"
     ]
    }
   ],
   "source": [
    "# # Drop zone column\n",
    "# df_ltc.drop(columns = ['Zone'],inplace = True)\n",
    "# # Clean symbols\n",
    "# df_ltc.replace({'': True, np.nan: False}, inplace = True)\n",
    "# df_ltc.info()\n",
    "# df_ltc.head()"
   ]
  },
  {
   "cell_type": "markdown",
   "metadata": {},
   "source": [
    "**Export**"
   ]
  },
  {
   "cell_type": "code",
   "execution_count": 51,
   "metadata": {},
   "outputs": [],
   "source": [
    "# df_ltc.to_csv('../data/alberta/open_alberta_LTC.csv')"
   ]
  },
  {
   "cell_type": "code",
   "execution_count": 60,
   "metadata": {},
   "outputs": [],
   "source": [
    "# Drop zone column\n",
    "dftotal.drop(columns = ['Zone'],inplace = True)\n",
    "# Clean symbols\n",
    "dftotal.replace({'': True, np.nan: False}, inplace = True)\n",
    "dftotal.to_csv('../data/alberta/open_alberta_scrape.csv')"
   ]
  },
  {
   "cell_type": "code",
   "execution_count": null,
   "metadata": {},
   "outputs": [],
   "source": []
  }
 ],
 "metadata": {
  "kernelspec": {
   "display_name": "Python 3",
   "language": "python",
   "name": "python3"
  },
  "language_info": {
   "codemirror_mode": {
    "name": "ipython",
    "version": 3
   },
   "file_extension": ".py",
   "mimetype": "text/x-python",
   "name": "python",
   "nbconvert_exporter": "python",
   "pygments_lexer": "ipython3",
   "version": "3.7.4"
  }
 },
 "nbformat": 4,
 "nbformat_minor": 4
}
