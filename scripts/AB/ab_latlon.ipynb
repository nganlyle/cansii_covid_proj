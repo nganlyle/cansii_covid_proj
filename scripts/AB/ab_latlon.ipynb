{
 "cells": [
  {
   "cell_type": "markdown",
   "metadata": {},
   "source": [
    "Using\n",
    "[https://dash.geocod.io/import] to forward geocode `GEOCODE_input.csv`"
   ]
  },
  {
   "cell_type": "code",
   "execution_count": 17,
   "metadata": {},
   "outputs": [],
   "source": [
    "import pandas as pd\n",
    "from geopy import *\n",
    "import geopandas\n",
    "from geopy.extra.rate_limiter import RateLimiter"
   ]
  },
  {
   "cell_type": "code",
   "execution_count": 18,
   "metadata": {},
   "outputs": [],
   "source": [
    "df = pd.read_csv('../data/alberta/ltc_odhf.csv')\n",
    "geos = pd.read_csv('../data/alberta/GEOCODE_output.csv')"
   ]
  },
  {
   "cell_type": "code",
   "execution_count": 19,
   "metadata": {},
   "outputs": [],
   "source": [
    "df['geo_lat'] = geos.Latitude\n",
    "df['geo_lon'] = geos.Longitude"
   ]
  },
  {
   "cell_type": "code",
   "execution_count": 20,
   "metadata": {},
   "outputs": [
    {
     "name": "stdout",
     "output_type": "stream",
     "text": [
      "Number of lats that will be replaced by geocoding: 108 \n",
      " Total number of null lats: 108\n"
     ]
    }
   ],
   "source": [
    "ind_rpl = df[df['geo_lat'].notnull() & df['latitude'].isnull()].index\n",
    "print(\"Number of lats that will be replaced by geocoding:\", len(ind_rpl), \"\\n\",\n",
    "     \"Total number of null lats:\", len(df[df['latitude'].isnull()].index))"
   ]
  },
  {
   "cell_type": "code",
   "execution_count": 21,
   "metadata": {},
   "outputs": [],
   "source": [
    "df.latitude.fillna(df['geo_lat'], inplace = True)\n",
    "df.longitude.fillna(df['geo_lon'], inplace = True)"
   ]
  },
  {
   "cell_type": "markdown",
   "metadata": {},
   "source": [
    "**Assessing accuracy of geocoder**"
   ]
  },
  {
   "cell_type": "code",
   "execution_count": 22,
   "metadata": {},
   "outputs": [],
   "source": [
    "df['lat_error'] = abs(df.latitude - df.geo_lat)\n",
    "df['lon_error'] = abs(df.longitude - df.geo_lon)"
   ]
  },
  {
   "cell_type": "code",
   "execution_count": 23,
   "metadata": {},
   "outputs": [
    {
     "data": {
      "text/plain": [
       "0      0.003911\n",
       "1      0.000000\n",
       "2      0.000021\n",
       "3      0.000000\n",
       "4      0.000000\n",
       "         ...   \n",
       "172    2.112813\n",
       "173    3.724698\n",
       "174    0.000000\n",
       "175    0.000000\n",
       "176    0.000000\n",
       "Name: lat_error, Length: 177, dtype: float64"
      ]
     },
     "execution_count": 23,
     "metadata": {},
     "output_type": "execute_result"
    }
   ],
   "source": [
    "df.lat_error"
   ]
  },
  {
   "cell_type": "code",
   "execution_count": 24,
   "metadata": {},
   "outputs": [],
   "source": [
    "check = df[df[df[['lat_error','lon_error']]>1].any(1)]"
   ]
  },
  {
   "cell_type": "code",
   "execution_count": 25,
   "metadata": {},
   "outputs": [],
   "source": [
    "check.to_csv('../data/alberta/geocode_checker.csv')"
   ]
  },
  {
   "cell_type": "markdown",
   "metadata": {},
   "source": [
    "**Manually check & adjust erroneous lat/lon:**"
   ]
  },
  {
   "cell_type": "code",
   "execution_count": 26,
   "metadata": {},
   "outputs": [],
   "source": [
    "df2 = df.set_index('Facility Name')"
   ]
  },
  {
   "cell_type": "code",
   "execution_count": 27,
   "metadata": {},
   "outputs": [],
   "source": [
    "df2.at['Big Country Hospital','longitude'] = -110.4793\n",
    "df2.at['Hardisty Health Centre','longitude'] = -111.307616\n",
    "df2.at['Provost Health Centre','longitude'] = -110.26484\n",
    "df2.at['Peace River Community Health Centre','longitude'] = -117.354442"
   ]
  },
  {
   "cell_type": "markdown",
   "metadata": {},
   "source": [
    "**Clean & Export:**\n",
    "\n",
    "* drop unneccessary columns\n",
    "* clean up operator type "
   ]
  },
  {
   "cell_type": "code",
   "execution_count": 28,
   "metadata": {},
   "outputs": [
    {
     "data": {
      "text/plain": [
       "Index(['Unnamed: 0', 'Location', 'Facility Address', 'Operator Name',\n",
       "       'Operator Type', 'DSL-3', 'DSL-4', 'DSL-4-Dementia',\n",
       "       'LTC-Auxilary Hospital', 'LTC-Nursing Home', 'facility_name', 'index',\n",
       "       'source_facility_type', 'odhf_facility_type', 'provider', 'street_no',\n",
       "       'street_name', 'postal_code', 'city', 'province',\n",
       "       'source_format_str_address', 'CSDname', 'latitude', 'longitude',\n",
       "       'outbreak_status', 'geo_lat', 'geo_lon', 'lat_error', 'lon_error'],\n",
       "      dtype='object')"
      ]
     },
     "execution_count": 28,
     "metadata": {},
     "output_type": "execute_result"
    }
   ],
   "source": [
    "df2.columns"
   ]
  },
  {
   "cell_type": "code",
   "execution_count": 29,
   "metadata": {},
   "outputs": [],
   "source": [
    "df2.drop(columns = ['Unnamed: 0',\n",
    "                    'DSL-3', 'DSL-4', 'DSL-4-Dementia',\n",
    "       'geo_lat', 'geo_lon', 'lat_error', 'lon_error','index',\n",
    "       'source_facility_type', 'odhf_facility_type', 'provider', 'street_no',\n",
    "       'street_name', 'postal_code', 'city', 'province','CSDname',\n",
    "       'source_format_str_address'], inplace = True)"
   ]
  },
  {
   "cell_type": "code",
   "execution_count": 30,
   "metadata": {},
   "outputs": [],
   "source": [
    "df2['Operator Type'].replace({'Alberta Health Alberta Health Services Services':'Alberta Health Services'}, inplace = True)"
   ]
  },
  {
   "cell_type": "code",
   "execution_count": 31,
   "metadata": {},
   "outputs": [
    {
     "data": {
      "text/plain": [
       "array(['Alberta Health Services', 'Voluntary', 'Private', 'RHA'],\n",
       "      dtype=object)"
      ]
     },
     "execution_count": 31,
     "metadata": {},
     "output_type": "execute_result"
    }
   ],
   "source": [
    "df2['Operator Type'].unique()"
   ]
  },
  {
   "cell_type": "code",
   "execution_count": 32,
   "metadata": {},
   "outputs": [],
   "source": [
    "df2.to_csv('../data/alberta/ltc_odhf_clean.csv')"
   ]
  }
 ],
 "metadata": {
  "kernelspec": {
   "display_name": "Python 3",
   "language": "python",
   "name": "python3"
  },
  "language_info": {
   "codemirror_mode": {
    "name": "ipython",
    "version": 3
   },
   "file_extension": ".py",
   "mimetype": "text/x-python",
   "name": "python",
   "nbconvert_exporter": "python",
   "pygments_lexer": "ipython3",
   "version": "3.7.4"
  }
 },
 "nbformat": 4,
 "nbformat_minor": 4
}
