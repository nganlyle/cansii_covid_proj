{
 "cells": [
  {
   "cell_type": "markdown",
   "metadata": {},
   "source": [
    "### Merge\n",
    "* ODHF\n",
    "* 2016 Open Alberta Scrape\n",
    "* Alberta gov outbreak scrape (outbreaks_scrape.csv)\n",
    "* Complaints\n",
    "* Inspections"
   ]
  },
  {
   "cell_type": "code",
   "execution_count": 1,
   "metadata": {},
   "outputs": [],
   "source": [
    "import pandas as pd"
   ]
  },
  {
   "cell_type": "code",
   "execution_count": 2,
   "metadata": {},
   "outputs": [],
   "source": [
    "# Load Data\n",
    "odhf=pd.read_csv('../data/alberta/odhf_v1_ab.csv')\n",
    "ltc=pd.read_csv('../data/alberta/openalberta_ltc_clean.csv')\n",
    "complaints=pd.read_csv('../data/alberta/total_complaints.csv')\n",
    "outbreaks = pd.read_csv('../data/alberta/outbreak_scrape.csv')\n",
    "# inspec=pd.read_csv('../data/alberta/inspections_1year.csv')"
   ]
  },
  {
   "cell_type": "code",
   "execution_count": 3,
   "metadata": {},
   "outputs": [],
   "source": [
    "# Clean names\n",
    "ltc['facility_name'] = ltc['Facility Name'].str.lower()\n",
    "complaints['facility_name'] = complaints['Site Name'].str.lower()"
   ]
  },
  {
   "cell_type": "markdown",
   "metadata": {},
   "source": [
    "### ODHF - LTC Merge"
   ]
  },
  {
   "cell_type": "code",
   "execution_count": 4,
   "metadata": {},
   "outputs": [],
   "source": [
    "odhf.facility_name = odhf.facility_name.str.replace(' ó ', ' ')\n",
    "odhf.facility_name = odhf.facility_name.str.replace('&', 'and')\n",
    "odhf.facility_name = odhf.facility_name.str.replace('park place seniors living inc. ', '')\n",
    "odhf.facility_name = odhf.facility_name.str.replace('the good samaritan society', 'good samaritan society')\n",
    "odhf.facility_name = odhf.facility_name.str.replace('covenant health ', '')\n",
    "odhf.facility_name = odhf.facility_name.str.replace('agecare ', '')\n",
    "odhf.facility_name = odhf.facility_name.str.replace('í',\"'\")\n",
    "odhf.facility_name = odhf.facility_name.str.replace('chantelle management ltd. ', '')\n",
    "odhf.facility_name = odhf.facility_name.str.replace('bethany care society ', '')\n",
    "odhf.facility_name = odhf.facility_name.str.replace('the bethany group ', '')\n",
    "odhf.facility_name = odhf.facility_name.str.replace('revera inc. ', '')\n",
    "odhf.facility_name = odhf.facility_name.str.replace('the brenda strafford foundation ltd. ','')\n",
    "odhf.facility_name = odhf.facility_name.str.replace('father lacombe care society ','')\n",
    "odhf.facility_name = odhf.facility_name.str.replace('retirement concepts ','')\n",
    "odhf.facility_name = odhf.facility_name.str.replace('intercare corporate group inc. ','')\n",
    "odhf.facility_name = odhf.facility_name.str.replace('qualicare ltd. ','')\n",
    "odhf.facility_name = odhf.facility_name.str.replace('capitalcare ','')\n",
    "odhf.facility_name = odhf.facility_name.str.replace('travois holdings ltd. ','')\n",
    "odhf.facility_name = odhf.facility_name.str.replace('covenant care ', '')\n",
    "\n",
    "ltc.facility_name = ltc.facility_name.str.replace(' \\(ltc\\)', '')\n",
    "ltc.facility_name = ltc.facility_name.str.replace(' \\[.*?\\]', '')\n",
    "ltc.facility_name = ltc.facility_name.str.replace('–', '-')\n",
    "ltc.facility_name = ltc.facility_name.str.replace('intercare ', '')\n",
    "ltc.facility_name = ltc.facility_name.str.replace('capitalcare ', '')\n",
    "ltc.facility_name = ltc.facility_name.str.replace('’', \"'\")"
   ]
  },
  {
   "cell_type": "code",
   "execution_count": 5,
   "metadata": {},
   "outputs": [],
   "source": [
    "ltc_odhf = pd.merge(ltc, odhf, on = 'facility_name', how = 'left')"
   ]
  },
  {
   "cell_type": "markdown",
   "metadata": {},
   "source": [
    "#### Manual review of non-matching home names"
   ]
  },
  {
   "cell_type": "code",
   "execution_count": 6,
   "metadata": {},
   "outputs": [
    {
     "name": "stdout",
     "output_type": "stream",
     "text": [
      "Number of homes from scrape not matched in ODHF:  27\n"
     ]
    }
   ],
   "source": [
    "print(\"Number of homes from scrape not matched in ODHF: \", len(list(set(ltc.facility_name.unique()) - set(odhf.facility_name.unique()))))"
   ]
  },
  {
   "cell_type": "code",
   "execution_count": 7,
   "metadata": {},
   "outputs": [
    {
     "data": {
      "text/plain": [
       "'4 River Ridge Drive NW MEDICINE HAT, Alberta T1A 8V1'"
      ]
     },
     "execution_count": 7,
     "metadata": {},
     "output_type": "execute_result"
    }
   ],
   "source": [
    "# ltc_odhf[ltc_odhf.facility_name == 'club sierra at river ridge']\n",
    "ltc_odhf.iloc[42]['Facility Address']"
   ]
  },
  {
   "cell_type": "code",
   "execution_count": 8,
   "metadata": {},
   "outputs": [
    {
     "data": {
      "text/html": [
       "<div>\n",
       "<style scoped>\n",
       "    .dataframe tbody tr th:only-of-type {\n",
       "        vertical-align: middle;\n",
       "    }\n",
       "\n",
       "    .dataframe tbody tr th {\n",
       "        vertical-align: top;\n",
       "    }\n",
       "\n",
       "    .dataframe thead th {\n",
       "        text-align: right;\n",
       "    }\n",
       "</style>\n",
       "<table border=\"1\" class=\"dataframe\">\n",
       "  <thead>\n",
       "    <tr style=\"text-align: right;\">\n",
       "      <th></th>\n",
       "      <th>index</th>\n",
       "      <th>facility_name</th>\n",
       "      <th>source_facility_type</th>\n",
       "      <th>odhf_facility_type</th>\n",
       "      <th>provider</th>\n",
       "      <th>unit</th>\n",
       "      <th>street_no</th>\n",
       "      <th>street_name</th>\n",
       "      <th>postal_code</th>\n",
       "      <th>city</th>\n",
       "      <th>province</th>\n",
       "      <th>source_format_str_address</th>\n",
       "      <th>CSDname</th>\n",
       "      <th>CSDuid</th>\n",
       "      <th>Pruid</th>\n",
       "      <th>latitude</th>\n",
       "      <th>longitude</th>\n",
       "      <th>111</th>\n",
       "    </tr>\n",
       "  </thead>\n",
       "  <tbody>\n",
       "    <tr>\n",
       "      <th>205</th>\n",
       "      <td>206</td>\n",
       "      <td>river ridge seniors village</td>\n",
       "      <td>long term care</td>\n",
       "      <td>Nursing and residential care facilities</td>\n",
       "      <td>Canadian Institute for Health Information</td>\n",
       "      <td>NaN</td>\n",
       "      <td>NaN</td>\n",
       "      <td>NaN</td>\n",
       "      <td>T1A8V1</td>\n",
       "      <td>medicine hat</td>\n",
       "      <td>ab</td>\n",
       "      <td>NaN</td>\n",
       "      <td>Medicine Hat</td>\n",
       "      <td>NaN</td>\n",
       "      <td>48</td>\n",
       "      <td>NaN</td>\n",
       "      <td>NaN</td>\n",
       "      <td>NaN</td>\n",
       "    </tr>\n",
       "  </tbody>\n",
       "</table>\n",
       "</div>"
      ],
      "text/plain": [
       "     index                facility_name source_facility_type  \\\n",
       "205    206  river ridge seniors village       long term care   \n",
       "\n",
       "                          odhf_facility_type  \\\n",
       "205  Nursing and residential care facilities   \n",
       "\n",
       "                                      provider  unit street_no street_name  \\\n",
       "205  Canadian Institute for Health Information   NaN       NaN         NaN   \n",
       "\n",
       "    postal_code          city province source_format_str_address  \\\n",
       "205      T1A8V1  medicine hat       ab                       NaN   \n",
       "\n",
       "          CSDname  CSDuid  Pruid  latitude  longitude  111  \n",
       "205  Medicine Hat     NaN     48       NaN        NaN  NaN  "
      ]
     },
     "execution_count": 8,
     "metadata": {},
     "output_type": "execute_result"
    }
   ],
   "source": [
    "odhf[odhf.facility_name == 'river ridge seniors village']\n",
    "# odhf.iloc[120]"
   ]
  },
  {
   "cell_type": "code",
   "execution_count": 9,
   "metadata": {},
   "outputs": [
    {
     "data": {
      "text/plain": [
       "['kensington village continuing care centre',\n",
       " 'good samaritan south ridge village',\n",
       " 'jasper place continuing care centre',\n",
       " 'good samaritan society millwoods centre',\n",
       " 'sagewood seniors community',\n",
       " 'baassspaenno  rhidegaelth l codegnetre',\n",
       " 'youville auxiliary hospital (grey nuns) of st. albert',\n",
       " 'sunnyside care centre              ',\n",
       " 'st. therese - st. paul healthcare centre',\n",
       " 'bethany collegeside (red deer)',\n",
       " 'sunrise village drayton valley',\n",
       " 'grimshaw/berwyn and district community health centre',\n",
       " 'the valleyview',\n",
       " 'clearwater centre (rocky mountain house)',\n",
       " 'seton seniors community',\n",
       " 'northcott care centre (ponoka)',\n",
       " 'westlock healthcare centre',\n",
       " 'extendicare st. paul',\n",
       " 'miller crossing care centre',\n",
       " 'club sierra at river ridge',\n",
       " 'good samaritan dr. gerald zetter care centre',\n",
       " 'j.b. wood continuing care centre',\n",
       " 'mayerthorpe healthcare centre',\n",
       " \"millwoods shepherd's care centre\",\n",
       " 'dr. w.r. keir - barrhead continuing care centre',\n",
       " 'riverview care centre',\n",
       " 'mary immaculate hospital']"
      ]
     },
     "execution_count": 9,
     "metadata": {},
     "output_type": "execute_result"
    }
   ],
   "source": [
    "list(set(ltc_odhf.facility_name.unique()) - set(odhf.facility_name.unique()))"
   ]
  },
  {
   "cell_type": "code",
   "execution_count": 10,
   "metadata": {},
   "outputs": [],
   "source": [
    "ltc['facility_name'].replace({'bethany collegeside (red deer)':'bethany collegeside',\n",
    "                             'the valleyview':'valleyview',\n",
    "                             'clearwater centre (rocky mountain house)':'good samaritan society rocky mountain house clearwater centre',\n",
    "                              'good samaritan south ridge village':'good samaritan society south ridge village',\n",
    "                              'northcott care centre (ponoka)':'northcott care centre',\n",
    "                              'good samaritan dr. gerald zetter care centre':'good samaritan society dr. gerald zetter care centre',\n",
    "                              'sunnyside care centre              ':'sunnyside care centre',\n",
    "                             },\n",
    "                            inplace=True)"
   ]
  },
  {
   "cell_type": "markdown",
   "metadata": {},
   "source": [
    "Manually rename LTCs in ODHF"
   ]
  },
  {
   "cell_type": "code",
   "execution_count": 11,
   "metadata": {},
   "outputs": [],
   "source": [
    "odhf['facility_name'].replace({\n",
    "    'shepherd\\'s care foundation kensington campus':'kensington village continuing care centre',\n",
    "    'mary immaculate care centre':'mary immaculate hospital',\n",
    "    'seton':'seton seniors community',\n",
    "    'st. therese-st. paul healthcare centre':'st. therese - st. paul healthcare centre',\n",
    "    'miller crossing':'miller crossing care centre',\n",
    "    'st. paul healthcare centre':'extendicare st. paul',\n",
    "\n",
    "    'good samaritan society mill woods centre':'good samaritan society millwoods centre',\n",
    "    'st paul':'st. paul',\n",
    "    'intercare corporate group inc. chinook care centre':'chinook care centre',\n",
    "    'westlock healthcare centre (h)':'westlock healthcare centre',\n",
    "    'jasper place':'jasper place continuing care centre',\n",
    "    'dr. w. r. keir - barrhead continuing care centre':'dr. w.r. keir - barrhead continuing care centre',\n",
    "    'sagewood seniors community inc':'sagewood seniors community',\n",
    "    'youville home':'youville auxiliary hospital (grey nuns) of st. albert',\n",
    "    \n",
    "    'grimshaw / berwyn and district community health centre':'grimshaw/berwyn and district community health centre',\n",
    "    'shepherd\\'s care foundation millwoods campus':\"millwoods shepherd's care centre\",\n",
    "     'mayerthorpe health care centre': 'mayerthorpe healthcare centre',\n",
    "    'riverview':'riverview care centre',\n",
    "    'river ridge seniors village':'club sierra at river ridge'\n",
    "    \n",
    "                           }, \n",
    "                              inplace = True)"
   ]
  },
  {
   "cell_type": "code",
   "execution_count": 12,
   "metadata": {},
   "outputs": [
    {
     "name": "stdout",
     "output_type": "stream",
     "text": [
      "Number of homes from scrape not matched in ODHF:  3\n"
     ]
    }
   ],
   "source": [
    "ltc_odhf = pd.merge(ltc, odhf, on = 'facility_name', how = 'left')\n",
    "print(\"Number of homes from scrape not matched in ODHF: \", len(list(set(ltc_odhf.facility_name.unique()) - set(odhf.facility_name.unique()))))"
   ]
  },
  {
   "cell_type": "code",
   "execution_count": 13,
   "metadata": {
    "scrolled": true
   },
   "outputs": [
    {
     "data": {
      "text/plain": [
       "['j.b. wood continuing care centre',\n",
       " 'sunrise village drayton valley',\n",
       " 'baassspaenno  rhidegaelth l codegnetre']"
      ]
     },
     "execution_count": 13,
     "metadata": {},
     "output_type": "execute_result"
    }
   ],
   "source": [
    "list(set(ltc_odhf.facility_name.unique()) - set(odhf.facility_name.unique()))"
   ]
  },
  {
   "cell_type": "markdown",
   "metadata": {},
   "source": [
    "**Clean DF**\n",
    "\n",
    "<mark> why are there 4 more LTCs now?  </mark>\n",
    "   * Review/remove unmatched homes \n",
    "   \n",
    "\n"
   ]
  },
  {
   "cell_type": "code",
   "execution_count": 14,
   "metadata": {},
   "outputs": [],
   "source": [
    "ltc_odhf.drop(columns = ['Unnamed: 0','Pruid', 'unit','111','CSDuid'], inplace = True)"
   ]
  },
  {
   "cell_type": "code",
   "execution_count": 15,
   "metadata": {},
   "outputs": [
    {
     "name": "stdout",
     "output_type": "stream",
     "text": [
      "<class 'pandas.core.frame.DataFrame'>\n",
      "Int64Index: 182 entries, 0 to 181\n",
      "Data columns (total 24 columns):\n",
      " #   Column                     Non-Null Count  Dtype  \n",
      "---  ------                     --------------  -----  \n",
      " 0   Location                   182 non-null    object \n",
      " 1   Facility Name              182 non-null    object \n",
      " 2   Facility Address           182 non-null    object \n",
      " 3   Operator Name              182 non-null    object \n",
      " 4   Operator Type              182 non-null    object \n",
      " 5   DSL-3                      182 non-null    bool   \n",
      " 6   DSL-4                      182 non-null    bool   \n",
      " 7   DSL-4-Dementia             182 non-null    bool   \n",
      " 8   LTC-Auxilary Hospital      182 non-null    bool   \n",
      " 9   LTC-Nursing Home           182 non-null    bool   \n",
      " 10  facility_name              182 non-null    object \n",
      " 11  index                      179 non-null    float64\n",
      " 12  source_facility_type       164 non-null    object \n",
      " 13  odhf_facility_type         179 non-null    object \n",
      " 14  provider                   179 non-null    object \n",
      " 15  street_no                  72 non-null     object \n",
      " 16  street_name                72 non-null     object \n",
      " 17  postal_code                179 non-null    object \n",
      " 18  city                       179 non-null    object \n",
      " 19  province                   179 non-null    object \n",
      " 20  source_format_str_address  72 non-null     object \n",
      " 21  CSDname                    173 non-null    object \n",
      " 22  latitude                   72 non-null     float64\n",
      " 23  longitude                  72 non-null     float64\n",
      "dtypes: bool(5), float64(3), object(16)\n",
      "memory usage: 29.3+ KB\n"
     ]
    }
   ],
   "source": [
    "ltc_odhf.info()"
   ]
  },
  {
   "cell_type": "markdown",
   "metadata": {},
   "source": [
    "**Merge alberta gov outbreak data**"
   ]
  },
  {
   "cell_type": "code",
   "execution_count": 16,
   "metadata": {},
   "outputs": [],
   "source": [
    "outbreaks['facility_name'] = outbreaks.LTC.str.lower()"
   ]
  },
  {
   "cell_type": "code",
   "execution_count": 17,
   "metadata": {},
   "outputs": [],
   "source": [
    "outbreaks.facility_name.replace({'kensington village': 'kensington village continuing care centre',\n",
    "                                'intercare brentwood':'brentwood care centre',\n",
    "                                'good samaritan southgate': 'good samaritan society southgate care centre',\n",
    "                                }, inplace = True)"
   ]
  },
  {
   "cell_type": "markdown",
   "metadata": {},
   "source": [
    "<mark> benevolence care centre **not found in ltc_odfh** </mark>"
   ]
  },
  {
   "cell_type": "code",
   "execution_count": 18,
   "metadata": {},
   "outputs": [],
   "source": [
    "def outbreak_status(x,y):\n",
    "    '''\n",
    "    param x: pd.series of homes\n",
    "    param y: list of homes with outbreaks\n",
    "    '''\n",
    "    if x in y:\n",
    "        return 1\n",
    "    else:\n",
    "        return 0\n",
    "    \n",
    "    \n",
    "y = outbreaks.facility_name.to_list()\n",
    "ltc_odhf['outbreak_status'] = ltc_odhf.facility_name.map(lambda x: outbreak_status(x, y))"
   ]
  },
  {
   "cell_type": "markdown",
   "metadata": {},
   "source": [
    "Check:"
   ]
  },
  {
   "cell_type": "code",
   "execution_count": 19,
   "metadata": {
    "scrolled": true
   },
   "outputs": [
    {
     "data": {
      "text/html": [
       "<div>\n",
       "<style scoped>\n",
       "    .dataframe tbody tr th:only-of-type {\n",
       "        vertical-align: middle;\n",
       "    }\n",
       "\n",
       "    .dataframe tbody tr th {\n",
       "        vertical-align: top;\n",
       "    }\n",
       "\n",
       "    .dataframe thead th {\n",
       "        text-align: right;\n",
       "    }\n",
       "</style>\n",
       "<table border=\"1\" class=\"dataframe\">\n",
       "  <thead>\n",
       "    <tr style=\"text-align: right;\">\n",
       "      <th></th>\n",
       "      <th>Location</th>\n",
       "      <th>Facility Name</th>\n",
       "      <th>Facility Address</th>\n",
       "      <th>Operator Name</th>\n",
       "      <th>Operator Type</th>\n",
       "      <th>DSL-3</th>\n",
       "      <th>DSL-4</th>\n",
       "      <th>DSL-4-Dementia</th>\n",
       "      <th>LTC-Auxilary Hospital</th>\n",
       "      <th>LTC-Nursing Home</th>\n",
       "      <th>...</th>\n",
       "      <th>street_no</th>\n",
       "      <th>street_name</th>\n",
       "      <th>postal_code</th>\n",
       "      <th>city</th>\n",
       "      <th>province</th>\n",
       "      <th>source_format_str_address</th>\n",
       "      <th>CSDname</th>\n",
       "      <th>latitude</th>\n",
       "      <th>longitude</th>\n",
       "      <th>outbreak_status</th>\n",
       "    </tr>\n",
       "  </thead>\n",
       "  <tbody>\n",
       "    <tr>\n",
       "      <th>20</th>\n",
       "      <td>Calgary</td>\n",
       "      <td>Bow Crest Care Centre</td>\n",
       "      <td>5927 Bowness Road, NW CALGARY, Alberta T3B 0C7</td>\n",
       "      <td>Revera Long Term Care Inc.</td>\n",
       "      <td>Private</td>\n",
       "      <td>False</td>\n",
       "      <td>False</td>\n",
       "      <td>False</td>\n",
       "      <td>False</td>\n",
       "      <td>True</td>\n",
       "      <td>...</td>\n",
       "      <td>NaN</td>\n",
       "      <td>NaN</td>\n",
       "      <td>T3B0C7</td>\n",
       "      <td>calgary</td>\n",
       "      <td>ab</td>\n",
       "      <td>NaN</td>\n",
       "      <td>Calgary</td>\n",
       "      <td>NaN</td>\n",
       "      <td>NaN</td>\n",
       "      <td>1</td>\n",
       "    </tr>\n",
       "    <tr>\n",
       "      <th>74</th>\n",
       "      <td>Edmonton</td>\n",
       "      <td>Good Samaritan Society Southgate Care Centre</td>\n",
       "      <td>4225 107 Street, EDMONTON, Alberta T6J2P1</td>\n",
       "      <td>The Good Samaritan Alberta Health Society (A L...</td>\n",
       "      <td>Voluntary</td>\n",
       "      <td>False</td>\n",
       "      <td>False</td>\n",
       "      <td>False</td>\n",
       "      <td>False</td>\n",
       "      <td>True</td>\n",
       "      <td>...</td>\n",
       "      <td>NaN</td>\n",
       "      <td>NaN</td>\n",
       "      <td>T6J2P1</td>\n",
       "      <td>edmonton</td>\n",
       "      <td>ab</td>\n",
       "      <td>NaN</td>\n",
       "      <td>Edmonton</td>\n",
       "      <td>NaN</td>\n",
       "      <td>NaN</td>\n",
       "      <td>1</td>\n",
       "    </tr>\n",
       "    <tr>\n",
       "      <th>87</th>\n",
       "      <td>Edmonton</td>\n",
       "      <td>Hardisty Care Centre</td>\n",
       "      <td>6420 101 Avenue EDMONTON, Alberta T6A 0H5</td>\n",
       "      <td>Hardisty Care Centre Ltd.</td>\n",
       "      <td>Private</td>\n",
       "      <td>False</td>\n",
       "      <td>False</td>\n",
       "      <td>False</td>\n",
       "      <td>False</td>\n",
       "      <td>True</td>\n",
       "      <td>...</td>\n",
       "      <td>NaN</td>\n",
       "      <td>NaN</td>\n",
       "      <td>T6A0H5</td>\n",
       "      <td>edmonton</td>\n",
       "      <td>ab</td>\n",
       "      <td>NaN</td>\n",
       "      <td>Edmonton</td>\n",
       "      <td>NaN</td>\n",
       "      <td>NaN</td>\n",
       "      <td>1</td>\n",
       "    </tr>\n",
       "    <tr>\n",
       "      <th>92</th>\n",
       "      <td>Calgary</td>\n",
       "      <td>Intercare Brentwood Care Centre</td>\n",
       "      <td>2727 16 Avenue NW CALGARY, Alberta T2N 3Y6</td>\n",
       "      <td>Intercare Corporate Group Inc.</td>\n",
       "      <td>Private</td>\n",
       "      <td>False</td>\n",
       "      <td>False</td>\n",
       "      <td>False</td>\n",
       "      <td>False</td>\n",
       "      <td>True</td>\n",
       "      <td>...</td>\n",
       "      <td>NaN</td>\n",
       "      <td>NaN</td>\n",
       "      <td>T2N3Y6</td>\n",
       "      <td>calgary</td>\n",
       "      <td>ab</td>\n",
       "      <td>NaN</td>\n",
       "      <td>Calgary</td>\n",
       "      <td>NaN</td>\n",
       "      <td>NaN</td>\n",
       "      <td>1</td>\n",
       "    </tr>\n",
       "    <tr>\n",
       "      <th>98</th>\n",
       "      <td>Edmonton</td>\n",
       "      <td>Kensington Village Continuing Care Centre (LTC)</td>\n",
       "      <td>12603 135 Avenue EDMONTON, Alberta T5L 5B2</td>\n",
       "      <td>Shepherd's Care Foundation</td>\n",
       "      <td>Voluntary</td>\n",
       "      <td>False</td>\n",
       "      <td>False</td>\n",
       "      <td>False</td>\n",
       "      <td>False</td>\n",
       "      <td>True</td>\n",
       "      <td>...</td>\n",
       "      <td>NaN</td>\n",
       "      <td>NaN</td>\n",
       "      <td>T5L5B1</td>\n",
       "      <td>edmonton</td>\n",
       "      <td>ab</td>\n",
       "      <td>NaN</td>\n",
       "      <td>Edmonton</td>\n",
       "      <td>NaN</td>\n",
       "      <td>NaN</td>\n",
       "      <td>1</td>\n",
       "    </tr>\n",
       "    <tr>\n",
       "      <th>101</th>\n",
       "      <td>La Crete</td>\n",
       "      <td>La Crete Continuing Care Centre</td>\n",
       "      <td>10601 100 Avenue Box 295 LA CRETE, Alberta T0H...</td>\n",
       "      <td>Alberta Health Services</td>\n",
       "      <td>Alberta Health Services</td>\n",
       "      <td>False</td>\n",
       "      <td>False</td>\n",
       "      <td>False</td>\n",
       "      <td>False</td>\n",
       "      <td>True</td>\n",
       "      <td>...</td>\n",
       "      <td>NaN</td>\n",
       "      <td>NaN</td>\n",
       "      <td>T0H2H0</td>\n",
       "      <td>la crete</td>\n",
       "      <td>ab</td>\n",
       "      <td>NaN</td>\n",
       "      <td>NaN</td>\n",
       "      <td>NaN</td>\n",
       "      <td>NaN</td>\n",
       "      <td>1</td>\n",
       "    </tr>\n",
       "    <tr>\n",
       "      <th>143</th>\n",
       "      <td>Edmonton</td>\n",
       "      <td>Edmonton Chinatown Care Centre (LTC)</td>\n",
       "      <td>9539 102A Avenue EDMONTON, Alberta T5H 0G2</td>\n",
       "      <td>Hong Lok Management Services Ltd.</td>\n",
       "      <td>Voluntary</td>\n",
       "      <td>False</td>\n",
       "      <td>False</td>\n",
       "      <td>False</td>\n",
       "      <td>False</td>\n",
       "      <td>True</td>\n",
       "      <td>...</td>\n",
       "      <td>NaN</td>\n",
       "      <td>NaN</td>\n",
       "      <td>T5H0G2</td>\n",
       "      <td>edmonton</td>\n",
       "      <td>ab</td>\n",
       "      <td>NaN</td>\n",
       "      <td>Edmonton</td>\n",
       "      <td>NaN</td>\n",
       "      <td>NaN</td>\n",
       "      <td>1</td>\n",
       "    </tr>\n",
       "  </tbody>\n",
       "</table>\n",
       "<p>7 rows × 25 columns</p>\n",
       "</div>"
      ],
      "text/plain": [
       "     Location                                    Facility Name  \\\n",
       "20    Calgary                            Bow Crest Care Centre   \n",
       "74   Edmonton     Good Samaritan Society Southgate Care Centre   \n",
       "87   Edmonton                             Hardisty Care Centre   \n",
       "92    Calgary                  Intercare Brentwood Care Centre   \n",
       "98   Edmonton  Kensington Village Continuing Care Centre (LTC)   \n",
       "101  La Crete                  La Crete Continuing Care Centre   \n",
       "143  Edmonton             Edmonton Chinatown Care Centre (LTC)   \n",
       "\n",
       "                                      Facility Address  \\\n",
       "20      5927 Bowness Road, NW CALGARY, Alberta T3B 0C7   \n",
       "74           4225 107 Street, EDMONTON, Alberta T6J2P1   \n",
       "87           6420 101 Avenue EDMONTON, Alberta T6A 0H5   \n",
       "92          2727 16 Avenue NW CALGARY, Alberta T2N 3Y6   \n",
       "98          12603 135 Avenue EDMONTON, Alberta T5L 5B2   \n",
       "101  10601 100 Avenue Box 295 LA CRETE, Alberta T0H...   \n",
       "143         9539 102A Avenue EDMONTON, Alberta T5H 0G2   \n",
       "\n",
       "                                         Operator Name  \\\n",
       "20                          Revera Long Term Care Inc.   \n",
       "74   The Good Samaritan Alberta Health Society (A L...   \n",
       "87                           Hardisty Care Centre Ltd.   \n",
       "92                      Intercare Corporate Group Inc.   \n",
       "98                          Shepherd's Care Foundation   \n",
       "101                            Alberta Health Services   \n",
       "143                  Hong Lok Management Services Ltd.   \n",
       "\n",
       "               Operator Type  DSL-3  DSL-4  DSL-4-Dementia  \\\n",
       "20                   Private  False  False           False   \n",
       "74                 Voluntary  False  False           False   \n",
       "87                   Private  False  False           False   \n",
       "92                   Private  False  False           False   \n",
       "98                 Voluntary  False  False           False   \n",
       "101  Alberta Health Services  False  False           False   \n",
       "143                Voluntary  False  False           False   \n",
       "\n",
       "     LTC-Auxilary Hospital  LTC-Nursing Home  ... street_no  street_name  \\\n",
       "20                   False              True  ...       NaN          NaN   \n",
       "74                   False              True  ...       NaN          NaN   \n",
       "87                   False              True  ...       NaN          NaN   \n",
       "92                   False              True  ...       NaN          NaN   \n",
       "98                   False              True  ...       NaN          NaN   \n",
       "101                  False              True  ...       NaN          NaN   \n",
       "143                  False              True  ...       NaN          NaN   \n",
       "\n",
       "    postal_code      city province source_format_str_address   CSDname  \\\n",
       "20       T3B0C7   calgary       ab                       NaN   Calgary   \n",
       "74       T6J2P1  edmonton       ab                       NaN  Edmonton   \n",
       "87       T6A0H5  edmonton       ab                       NaN  Edmonton   \n",
       "92       T2N3Y6   calgary       ab                       NaN   Calgary   \n",
       "98       T5L5B1  edmonton       ab                       NaN  Edmonton   \n",
       "101      T0H2H0  la crete       ab                       NaN       NaN   \n",
       "143      T5H0G2  edmonton       ab                       NaN  Edmonton   \n",
       "\n",
       "    latitude longitude outbreak_status  \n",
       "20       NaN       NaN               1  \n",
       "74       NaN       NaN               1  \n",
       "87       NaN       NaN               1  \n",
       "92       NaN       NaN               1  \n",
       "98       NaN       NaN               1  \n",
       "101      NaN       NaN               1  \n",
       "143      NaN       NaN               1  \n",
       "\n",
       "[7 rows x 25 columns]"
      ]
     },
     "execution_count": 19,
     "metadata": {},
     "output_type": "execute_result"
    }
   ],
   "source": [
    "ltc_odhf[ltc_odhf['outbreak_status'] == 1]"
   ]
  },
  {
   "cell_type": "markdown",
   "metadata": {},
   "source": [
    "<mark> **Merge with complaints:** </mark>"
   ]
  },
  {
   "cell_type": "code",
   "execution_count": 20,
   "metadata": {},
   "outputs": [],
   "source": [
    "complaints['facility_name'] = complaints['Site Name'].str.lower()"
   ]
  },
  {
   "cell_type": "markdown",
   "metadata": {},
   "source": [
    "Clean `facility_name`"
   ]
  },
  {
   "cell_type": "code",
   "execution_count": 21,
   "metadata": {},
   "outputs": [],
   "source": [
    "complaints.facility_name = complaints.facility_name.str.replace('\\(.*?\\)', '')"
   ]
  },
  {
   "cell_type": "markdown",
   "metadata": {},
   "source": [
    "Merge"
   ]
  },
  {
   "cell_type": "code",
   "execution_count": 22,
   "metadata": {},
   "outputs": [],
   "source": [
    "complaints.facility_name.replace({ 'edmonton general continuing care': 'edmonton general continuing care centre',\n",
    "                                 'bethany care centre airdrie':'bethany airdrie'\n",
    "                                 }, \n",
    "                                 inplace = True)"
   ]
  },
  {
   "cell_type": "code",
   "execution_count": 23,
   "metadata": {},
   "outputs": [
    {
     "name": "stdout",
     "output_type": "stream",
     "text": [
      "Number of homes from ltc_odhf not matched in complaints csv:  127\n"
     ]
    }
   ],
   "source": [
    "compl_merge = pd.merge(ltc_odhf, complaints, on = 'facility_name')\n",
    "print(\"Number of homes from ltc_odhf not matched in complaints csv: \", len(list(set(ltc_odhf.facility_name.unique()) - set(compl_merge.facility_name.unique()))))"
   ]
  },
  {
   "cell_type": "code",
   "execution_count": 24,
   "metadata": {},
   "outputs": [
    {
     "data": {
      "text/plain": [
       "['allen gray continuing care centre',\n",
       " 'athabasca healthcare centre',\n",
       " 'baassspaenno  rhidegaelth l codegnetre',\n",
       " 'bassano health centre',\n",
       " 'bentley care centre',\n",
       " 'bethany cochrane',\n",
       " 'bethany harvest hills',\n",
       " 'bethany sylvan lake',\n",
       " 'beverly centre lake midnapore',\n",
       " 'bonnyville healthcare centre',\n",
       " 'bow crest care centre',\n",
       " 'breton health centre',\n",
       " 'brooks health centre',\n",
       " 'canmore general hospital',\n",
       " 'cardston health centre',\n",
       " 'carewest colonel belcher',\n",
       " 'carewest garrison green',\n",
       " 'carewest rouleau manor',\n",
       " 'carewest signal pointe',\n",
       " 'central peace health complex',\n",
       " 'citadel care centre',\n",
       " 'club sierra at river ridge',\n",
       " 'coaldale health centre',\n",
       " 'cold lake healthcare centre',\n",
       " 'consort hospital and care centre',\n",
       " 'coronation hospital and care centre',\n",
       " 'crowsnest pass health centre',\n",
       " 'devon general hospital',\n",
       " 'dickinsfield',\n",
       " 'dr. cooke extended care centre',\n",
       " 'dr. w.r. keir - barrhead continuing care centre',\n",
       " 'drayton valley hospital and care centre',\n",
       " 'edson healthcare centre',\n",
       " 'elk point healthcare centre',\n",
       " 'extendicare athabasca',\n",
       " 'extendicare fort macleod',\n",
       " 'extendicare hillcrest',\n",
       " 'extendicare holyrood',\n",
       " 'extendicare leduc',\n",
       " 'extendicare st. paul',\n",
       " 'extendicare vulcan',\n",
       " 'fairview health complex',\n",
       " 'father lacombe care centre',\n",
       " 'foyer lacombe',\n",
       " 'galahad care centre',\n",
       " 'george mcdougall - smoky lake healthcare centre',\n",
       " 'glamorgan care centre',\n",
       " 'good samaritan society dr. gerald zetter care centre',\n",
       " 'good samaritan society rocky mountain house clearwater centre',\n",
       " 'good samaritan society south ridge village',\n",
       " 'good samaritan society southgate care centre',\n",
       " 'good samaritan society stony plain care centre',\n",
       " 'grande prairie care centre',\n",
       " 'grandview',\n",
       " 'grimshaw/berwyn and district community health centre',\n",
       " 'hanna health centre',\n",
       " 'hardisty health centre',\n",
       " 'hythe continuing care centre',\n",
       " 'innisfail health centre',\n",
       " 'j.b. wood continuing care centre',\n",
       " 'jasper place continuing care centre',\n",
       " 'kensington village continuing care centre',\n",
       " 'killam health care centre',\n",
       " 'lacombe hospital and care centre',\n",
       " 'lamont health care centre',\n",
       " 'lloydminster continuing care centre',\n",
       " 'lynnwood',\n",
       " 'manning community health centre',\n",
       " 'mannville care centre',\n",
       " 'mary immaculate hospital',\n",
       " 'mckenzie towne care centre',\n",
       " 'milk river health centre',\n",
       " 'miller crossing care centre',\n",
       " 'millrise place',\n",
       " \"millwoods shepherd's care centre\",\n",
       " 'mineral springs hospital',\n",
       " 'mount royal care centre',\n",
       " 'northcott care centre',\n",
       " 'northwest health centre',\n",
       " 'norwood',\n",
       " 'oilfields general hospital',\n",
       " 'olds hospital and care centre',\n",
       " 'our lady of the rosary hospital',\n",
       " 'peace river community health centre',\n",
       " 'pincher creek health centre',\n",
       " 'points west living grande prairie',\n",
       " 'ponoka hospital and care centre',\n",
       " 'providence care centre',\n",
       " 'provost health centre',\n",
       " 'radway continuing care centre',\n",
       " 'raymond health centre',\n",
       " 'redwater health centre',\n",
       " 'rimbey hospital and care centre',\n",
       " 'rivercrest care centre',\n",
       " 'riverview care centre',\n",
       " 'rosehaven care centre',\n",
       " 'sagewood seniors community',\n",
       " 'salem manor nursing home',\n",
       " 'seton seniors community',\n",
       " 'sherwood care',\n",
       " 'smoky lake continuing care centre',\n",
       " 'south terrace continuing care centre',\n",
       " \"st. mary's health care centre\",\n",
       " \"st. michael's health centre\",\n",
       " 'st. theresa general hospital',\n",
       " 'stettler hospital and care centre',\n",
       " 'strathcona',\n",
       " 'sundre hospital and care centre',\n",
       " 'sunnyside care centre',\n",
       " 'sunrise village drayton valley',\n",
       " 'the dianne and irving kipnes centre for veterans',\n",
       " 'tofield health centre',\n",
       " 'touchmark at wedgewood',\n",
       " 'two hills health centre',\n",
       " 'valleyview',\n",
       " 'valleyview health centre',\n",
       " 'vermilion health centre',\n",
       " 'vulcan community health centre',\n",
       " 'wainwright health centre',\n",
       " 'walden heights seniors community',\n",
       " 'wentworth manor - the court',\n",
       " 'westlock healthcare centre',\n",
       " 'westview care community',\n",
       " 'westview health centre - stony plain',\n",
       " 'willow creek continuing care centre',\n",
       " 'wing kei care centre',\n",
       " 'youville auxiliary hospital (grey nuns) of st. albert']"
      ]
     },
     "execution_count": 24,
     "metadata": {},
     "output_type": "execute_result"
    }
   ],
   "source": [
    "ltc_lst = list(set(ltc_odhf.facility_name.unique()) - set(compl_merge.facility_name.unique()))\n",
    "sorted(ltc_lst)"
   ]
  },
  {
   "cell_type": "code",
   "execution_count": 25,
   "metadata": {},
   "outputs": [
    {
     "data": {
      "text/plain": [
       "['1914969 alberta inc.',\n",
       " '9385452 canada inc., o/a chartwell wescott retirement residence',\n",
       " 'agecare columbia',\n",
       " 'alberta life care housing foundation',\n",
       " 'aldrich care',\n",
       " 'allen gray continuing care',\n",
       " 'amica aspen woods',\n",
       " 'amica britannia',\n",
       " 'ashbourne',\n",
       " 'aspen community',\n",
       " 'aspen ridge',\n",
       " 'aspen ridge lodge',\n",
       " 'auburn heights retirement residence',\n",
       " 'autumn glen lodge',\n",
       " 'balwin villa',\n",
       " 'bashaw meadows',\n",
       " 'battle river foundation',\n",
       " 'beaverhill pioneer lodge',\n",
       " 'benevolence care centre',\n",
       " 'bethany didsbury',\n",
       " 'bigstone health commission',\n",
       " 'boardwalk retirement community',\n",
       " 'boardwalk retirement community at varsity',\n",
       " 'bonny lodge ',\n",
       " 'brightmorningstar care homes',\n",
       " 'capital care grandview',\n",
       " 'castlewood care homes inc.',\n",
       " 'catholic social services - bethany house',\n",
       " 'catholic social services - gabriel place',\n",
       " 'century park lodge',\n",
       " 'chateau sturgeon',\n",
       " 'chateau three hills',\n",
       " 'chinook lodge',\n",
       " 'chinook winds lodge',\n",
       " 'churchill retirement community ',\n",
       " 'cloverleaf manor',\n",
       " 'community care cottages - aspen cottage',\n",
       " 'community care cottages - maple cottage',\n",
       " 'community care cottages inc.',\n",
       " 'dalhousie care centre inc.',\n",
       " 'devonshire manor ltd.',\n",
       " 'eau claire retirement residence',\n",
       " 'edmonton people in need shelter society',\n",
       " 'edson continuing care',\n",
       " 'evanston grand village',\n",
       " 'evergreen',\n",
       " 'extendicare fairmont park',\n",
       " 'extendicare holyrood ',\n",
       " 'fairview health complex ',\n",
       " 'garneau hall',\n",
       " 'glamorgan nursing home',\n",
       " 'glastonbury mews',\n",
       " 'golden hills lodge',\n",
       " 'good samaritan society 1601 wedman village ',\n",
       " 'good samaritan society 1603 wedman village ',\n",
       " 'good samaritan society 1609 wedman village ',\n",
       " 'good samaritan society clearwater centre',\n",
       " 'good samaritan society dr. gerald zetter',\n",
       " 'good samaritan society good shepherd home',\n",
       " 'good samaritan society linden view',\n",
       " 'good samaritan society south ridge village ',\n",
       " 'good samaritan society southgate',\n",
       " 'good samaritan society wedman house ',\n",
       " 'hanna lodge',\n",
       " 'heritage house',\n",
       " 'hinton mountain view continuing care',\n",
       " \"homestead senior citizen's lodge\",\n",
       " 'hope cottage inc. - residence #1',\n",
       " 'islay assisted living',\n",
       " 'jasper place continuing care centre - axr operating  gp inc.',\n",
       " 'kahkiyow keykanow elders care home',\n",
       " 'klondike place',\n",
       " 'laurel heights retirement residence',\n",
       " 'lewis estates retirement residence',\n",
       " 'love and care home',\n",
       " 'luxstone manor',\n",
       " 'mactaggart place retirement residence',\n",
       " 'madison manor ltd.',\n",
       " 'manor village at garrison woods ',\n",
       " 'manor village at rocky ridge ',\n",
       " \"martha's house\",\n",
       " 'mary immaculate care centre',\n",
       " 'masterpiece southland meadows ltd.',\n",
       " 'mckenzie towne continuing care centre - axr operating  gp inc.',\n",
       " 'mcqueen place lodge',\n",
       " 'meadow ridge seniors village',\n",
       " 'meadowlark senior care homes',\n",
       " 'medi-home individualized support services ltd. #6',\n",
       " 'medicine hat retirement villa',\n",
       " 'millrise seniors village',\n",
       " 'mountain plains community services society of the north',\n",
       " 'multi generational housing and community centre',\n",
       " 'niginan housing ventures',\n",
       " 'orchard manor ',\n",
       " 'oyen lodge',\n",
       " 'park avenue at creekside',\n",
       " 'parkvale lodge',\n",
       " 'pioneer lodge',\n",
       " 'pleasant valley lodge',\n",
       " 'points west living peace river inc.',\n",
       " 'points west living red deer',\n",
       " 'points west living slave lake inc.',\n",
       " 'prince of peace harbour',\n",
       " 'ridgevalley home',\n",
       " 'river ridge by revera',\n",
       " 'river ridge seniors village',\n",
       " 'riverbend retirement residence',\n",
       " 'rosealta lodge',\n",
       " 'royal oak manor',\n",
       " 'rutherford heights retirement residence',\n",
       " 'saint thomas health centre - covenant care',\n",
       " 'salvation army - grace manor',\n",
       " 'seasons camrose',\n",
       " 'seasons high river',\n",
       " 'seasons lethbridge',\n",
       " 'seasons lethbridge gardens',\n",
       " 'shawnessy community',\n",
       " \"shepherd's care greenfield\",\n",
       " \"shepherd's care vanguard\",\n",
       " 'spruce view manor',\n",
       " 'sprucewood place housing community partnership',\n",
       " \"st. andrew's centre\",\n",
       " 'st. marguerite manor',\n",
       " \"st. michael's health centre \",\n",
       " 'st. teresa place',\n",
       " 'st. therese villa',\n",
       " 'stony plain care centre',\n",
       " 'summerwood village retirement residence',\n",
       " 'sunnyside care centre ',\n",
       " 'sunnyside manor',\n",
       " 'the meadowlands retirement residence',\n",
       " 'the mustard seed',\n",
       " 'thorhild lodge',\n",
       " 'touchmark at wedgewood the grande',\n",
       " 'tuoi hac - golden age manor',\n",
       " 'vegreville manor',\n",
       " 'vermilion valley lodge',\n",
       " 'villa marguerite seniors community partnership',\n",
       " 'virginia park lodge',\n",
       " 'wellington retirement residence ',\n",
       " 'west pine lodge',\n",
       " 'westlock continuing care centre',\n",
       " 'westview lodge',\n",
       " 'whitehorn village retirement community',\n",
       " 'york creek lodge',\n",
       " 'youville auxiliary hospital  of st. albert']"
      ]
     },
     "execution_count": 25,
     "metadata": {},
     "output_type": "execute_result"
    }
   ],
   "source": [
    "cmp_lst = list(set(complaints.facility_name.unique()) - set(compl_merge.facility_name.unique()))\n",
    "sorted(cmp_lst)"
   ]
  },
  {
   "attachments": {},
   "cell_type": "markdown",
   "metadata": {},
   "source": [
    "**Final Clean**\n",
    "* Remove `BaAssspaenno  RHidegaelth L Codegnetre`\n",
    "* Duplicate facilities were manually reviewed and only differ by a few non-influential digits in coordinates.\n"
   ]
  },
  {
   "cell_type": "code",
   "execution_count": 42,
   "metadata": {},
   "outputs": [],
   "source": [
    "# ltc_odhf.loc[ltc_odhf['Facility Name'] == 'BaAssspaenno  RHidegaelth L Codegnetre']\n",
    "ltc_odhf.drop(index = 3, inplace = True)"
   ]
  },
  {
   "cell_type": "code",
   "execution_count": 43,
   "metadata": {},
   "outputs": [],
   "source": [
    "ltc_odhf2 = ltc_odhf[-ltc_odhf['Facility Name'].duplicated()]"
   ]
  },
  {
   "cell_type": "code",
   "execution_count": 44,
   "metadata": {},
   "outputs": [
    {
     "name": "stdout",
     "output_type": "stream",
     "text": [
      "<class 'pandas.core.frame.DataFrame'>\n",
      "Int64Index: 177 entries, 0 to 181\n",
      "Data columns (total 25 columns):\n",
      " #   Column                     Non-Null Count  Dtype  \n",
      "---  ------                     --------------  -----  \n",
      " 0   Location                   177 non-null    object \n",
      " 1   Facility Name              177 non-null    object \n",
      " 2   Facility Address           177 non-null    object \n",
      " 3   Operator Name              177 non-null    object \n",
      " 4   Operator Type              177 non-null    object \n",
      " 5   DSL-3                      177 non-null    bool   \n",
      " 6   DSL-4                      177 non-null    bool   \n",
      " 7   DSL-4-Dementia             177 non-null    bool   \n",
      " 8   LTC-Auxilary Hospital      177 non-null    bool   \n",
      " 9   LTC-Nursing Home           177 non-null    bool   \n",
      " 10  facility_name              177 non-null    object \n",
      " 11  index                      175 non-null    float64\n",
      " 12  source_facility_type       162 non-null    object \n",
      " 13  odhf_facility_type         175 non-null    object \n",
      " 14  provider                   175 non-null    object \n",
      " 15  street_no                  69 non-null     object \n",
      " 16  street_name                69 non-null     object \n",
      " 17  postal_code                175 non-null    object \n",
      " 18  city                       175 non-null    object \n",
      " 19  province                   175 non-null    object \n",
      " 20  source_format_str_address  69 non-null     object \n",
      " 21  CSDname                    169 non-null    object \n",
      " 22  latitude                   69 non-null     float64\n",
      " 23  longitude                  69 non-null     float64\n",
      " 24  outbreak_status            177 non-null    int64  \n",
      "dtypes: bool(5), float64(3), int64(1), object(16)\n",
      "memory usage: 29.9+ KB\n"
     ]
    }
   ],
   "source": [
    "ltc_odhf2.info()"
   ]
  },
  {
   "cell_type": "markdown",
   "metadata": {},
   "source": [
    "**Export**"
   ]
  },
  {
   "cell_type": "code",
   "execution_count": 45,
   "metadata": {},
   "outputs": [],
   "source": [
    "ltc_odhf2.to_csv('../data/alberta/ltc_odhf.csv')"
   ]
  }
 ],
 "metadata": {
  "kernelspec": {
   "display_name": "Python 3",
   "language": "python",
   "name": "python3"
  },
  "language_info": {
   "codemirror_mode": {
    "name": "ipython",
    "version": 3
   },
   "file_extension": ".py",
   "mimetype": "text/x-python",
   "name": "python",
   "nbconvert_exporter": "python",
   "pygments_lexer": "ipython3",
   "version": "3.7.4"
  }
 },
 "nbformat": 4,
 "nbformat_minor": 4
}
